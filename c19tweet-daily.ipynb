{
 "cells": [
  {
   "cell_type": "code",
   "execution_count": 1,
   "metadata": {},
   "outputs": [],
   "source": [
    "import os\n",
    "import requests\n",
    "from bs4 import BeautifulSoup\n",
    "import json\n",
    "import datetime\n",
    "import time\n",
    "import c19tweet"
   ]
  },
  {
   "cell_type": "code",
   "execution_count": 3,
   "metadata": {},
   "outputs": [],
   "source": [
    "url = \"https://api.covid19india.org/data.json\"\n",
    "c19_data = requests.get(url)\n",
    "c19_data = json.loads(c19_data.content)\n",
    "todayData = (len(c19_data[\"cases_time_series\"])-1)"
   ]
  },
  {
   "cell_type": "code",
   "execution_count": 4,
   "metadata": {},
   "outputs": [],
   "source": [
    "c19_data = c19_data[\"cases_time_series\"][todayData]"
   ]
  },
  {
   "cell_type": "code",
   "execution_count": 5,
   "metadata": {},
   "outputs": [],
   "source": [
    "def tweetNow(content):\n",
    "#     tweetData = \"Covid19India Update \"+content[\"date\"]+\" \\n Total:\\n  Confirmed: \"+content[\"totalconfirmed\"]+\"\\n  Active: \"+str(int(content[\"totalconfirmed\"])-int(content[\"totalrecovered\"])-int(content[\"totaldeceased\"]))+\"\\n  Recovered: \"+content[\"totalrecovered\"]+\"\\n  Death: \"+content[\"totaldeceased\"]+\"\"\n",
    "    tweetData = r\"Covid19India Update \"+content[\"date\"]+\" \\n    Total:\\n        Confirmed: \"+content[\"totalconfirmed\"]+\"\\n        Active: \"+str(int(content[\"totalconfirmed\"])-int(content[\"totalrecovered\"])-int(content[\"totaldeceased\"]))+\"\\n        Recovered: \"+content[\"totalrecovered\"]+\"\\n        Death: \"+content[\"totaldeceased\"]+\"\\n    Daily Data:\\n        Confirm: \"+content[\"dailyconfirmed\"]+\"\\n        Recovered: \"+content[\"dailyrecovered\"]+\"\\n        Death: \"+content[\"dailydeceased\"]+\"\\n#COVID19 #IndiaFightsCorona\"\n",
    "\n",
    "    c19tweet.Tweet(tweetData)"
   ]
  },
  {
   "cell_type": "code",
   "execution_count": 6,
   "metadata": {},
   "outputs": [
    {
     "name": "stdout",
     "output_type": "stream",
     "text": [
      "Tweeted\n"
     ]
    }
   ],
   "source": [
    "x = datetime.datetime.now()\n",
    "run = 1\n",
    "while(run):\n",
    "    if(c19_data[\"date\"]==x.strftime(\"%d %B \")):\n",
    "        tweetNow(c19_data)\n",
    "        run = 0"
   ]
  },
  {
   "cell_type": "code",
   "execution_count": null,
   "metadata": {},
   "outputs": [],
   "source": []
  }
 ],
 "metadata": {
  "kernelspec": {
   "display_name": "Python 3",
   "language": "python",
   "name": "python3"
  },
  "language_info": {
   "codemirror_mode": {
    "name": "ipython",
    "version": 3
   },
   "file_extension": ".py",
   "mimetype": "text/x-python",
   "name": "python",
   "nbconvert_exporter": "python",
   "pygments_lexer": "ipython3",
   "version": "3.6.8"
  }
 },
 "nbformat": 4,
 "nbformat_minor": 4
}
